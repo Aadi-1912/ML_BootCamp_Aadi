{
 "cells": [
  {
   "cell_type": "code",
   "execution_count": 1,
   "id": "bef9a93d-6a19-4af6-85a2-c82ccc7b5dfc",
   "metadata": {},
   "outputs": [],
   "source": [
    "import pandas as pd\n",
    "import numpy as np\n",
    "import matplotlib.pyplot as plt"
   ]
  },
  {
   "cell_type": "code",
   "execution_count": 2,
   "id": "69284df2-d848-42c4-aaf3-d216674443f8",
   "metadata": {},
   "outputs": [],
   "source": [
    "X = np.array(pd.read_csv(r\"C:\\Users\\anpar\\Python\\ML_Bootcamp_Aadi\\Algo\\Train_Datasets\\Kmean_dataset.csv\"))"
   ]
  },
  {
   "cell_type": "code",
   "execution_count": 3,
   "id": "92221aec-9614-42dc-8c43-a4651104e719",
   "metadata": {},
   "outputs": [
    {
     "data": {
      "text/plain": [
       "array([[1.423e+01, 1.710e+00, 2.430e+00, ..., 1.040e+00, 3.920e+00,\n",
       "        1.065e+03],\n",
       "       [1.320e+01, 1.780e+00, 2.140e+00, ..., 1.050e+00, 3.400e+00,\n",
       "        1.050e+03],\n",
       "       [1.316e+01, 2.360e+00, 2.670e+00, ..., 1.030e+00, 3.170e+00,\n",
       "        1.185e+03],\n",
       "       ...,\n",
       "       [1.327e+01, 4.280e+00, 2.260e+00, ..., 5.900e-01, 1.560e+00,\n",
       "        8.350e+02],\n",
       "       [1.317e+01, 2.590e+00, 2.370e+00, ..., 6.000e-01, 1.620e+00,\n",
       "        8.400e+02],\n",
       "       [1.413e+01, 4.100e+00, 2.740e+00, ..., 6.100e-01, 1.600e+00,\n",
       "        5.600e+02]])"
      ]
     },
     "execution_count": 3,
     "metadata": {},
     "output_type": "execute_result"
    }
   ],
   "source": [
    "X"
   ]
  },
  {
   "cell_type": "code",
   "execution_count": 4,
   "id": "2f2f23e1-3832-43be-aa62-a2ba1193eb69",
   "metadata": {},
   "outputs": [],
   "source": [
    "class Standarize:\n",
    "    \n",
    "    mean = std = None\n",
    "    \n",
    "    def fit(self, X):\n",
    "        self.mean = X.mean(axis=0)\n",
    "        self.std = X.std(axis=0)\n",
    "        \n",
    "        \n",
    "    def fit_transform(self, X):\n",
    "        self.fit(X)\n",
    "        X_scaled = (X - self.mean)/self.std\n",
    "        return X_scaled\n",
    "        \n",
    "\n",
    "    def transform(self, X):\n",
    "        try:\n",
    "            X_scaled = (X - self.mean)/self.std\n",
    "            return X_scaled\n",
    "        except TypeError:\n",
    "            raise TypeError('No data has been provided to calculate mean and standard deviation')\n",
    "\n"
   ]
  },
  {
   "cell_type": "code",
   "execution_count": 5,
   "id": "90f5da34-87df-4674-a97a-eb486f7260d0",
   "metadata": {},
   "outputs": [],
   "source": [
    "scalar = Standarize()\n",
    "X = scalar.fit_transform(X)"
   ]
  },
  {
   "cell_type": "code",
   "execution_count": 6,
   "id": "c49b7d41-9e05-41ce-a3c8-f30b33d423ea",
   "metadata": {},
   "outputs": [],
   "source": [
    "def label(X, centroids, clusters):\n",
    "    distances = np.zeros((X.shape[0], 1))\n",
    "    for centroid in centroids:\n",
    "        distance = np.sqrt(np.sum((X-centroid)**2, axis=1).reshape(X.shape[0], 1))\n",
    "        distances = np.append(distances, distance, axis=1)\n",
    "\n",
    "    distances = np.delete(distances, 0, axis=1)\n",
    "    labels = np.argmin(distances, axis=1)\n",
    "    return labels"
   ]
  },
  {
   "cell_type": "code",
   "execution_count": 7,
   "id": "451d3951-7c06-4524-b123-2750607d7200",
   "metadata": {},
   "outputs": [],
   "source": [
    "def recentre(X, labels):\n",
    "    centroids = np.zeros((1, X.shape[1]))\n",
    "    for label in np.unique(labels):\n",
    "        centroid = np.mean(X[labels == label], axis=0).reshape(1, X.shape[1])\n",
    "        centroids = np.append(centroids, centroid, axis=0)\n",
    "\n",
    "    centroids = np.delete(centroids, 0, axis=0)\n",
    "    return centroids"
   ]
  },
  {
   "cell_type": "code",
   "execution_count": 110,
   "id": "715c7150-19d9-411d-aec2-a786fb237132",
   "metadata": {},
   "outputs": [],
   "source": [
    "class KMeans:\n",
    "    inertia = 0\n",
    "    \n",
    "    def __init__(self, clusters):\n",
    "        self.clusters = clusters\n",
    "\n",
    "    def fit(self, X, n_iterations=100):\n",
    "        self.centroids_cords = np.random.randint(0, len(X), self.clusters)\n",
    "        self.centroids = X[self.centroids_cords]\n",
    "        for _ in range(n_iterations):\n",
    "            self.old_centroids = self.centroids\n",
    "            self.labels = label(X, self.centroids, self.clusters)\n",
    "            self.centroids = recentre(X, self.labels)\n",
    "            if self.old_centroids.shape != self.centroids.shape:\n",
    "                continue\n",
    "            if (self.old_centroids == self.centroids).all():\n",
    "                break\n",
    "        \n",
    "        for i in np.unique(self.labels):\n",
    "            self.inertia += np.sum((X[self.labels == i] - self.centroids[i, :])**2)\n",
    "            \n",
    "        return self.labels"
   ]
  },
  {
   "cell_type": "code",
   "execution_count": 111,
   "id": "611bd6a1-a774-4fee-83e2-b351e2691ef7",
   "metadata": {
    "scrolled": true
   },
   "outputs": [],
   "source": [
    "wcss= []\n",
    "for i in range(1,11):\n",
    "    km = KMeans(clusters=i)\n",
    "    km.fit(X, 100)\n",
    "    wcss.append(km.inertia)"
   ]
  },
  {
   "cell_type": "code",
   "execution_count": 112,
   "id": "58f001ae-a947-4fa6-92cb-c486f3953de4",
   "metadata": {},
   "outputs": [
    {
     "data": {
      "text/plain": [
       "[2314.0,\n",
       " 1659.9511977619795,\n",
       " 1282.4635183465311,\n",
       " 1186.4445500282523,\n",
       " 1162.6174555067917,\n",
       " 1084.8033689606057,\n",
       " 1046.902148962543,\n",
       " 1022.3678574435793,\n",
       " 987.1628446000019,\n",
       " 907.9850832199336]"
      ]
     },
     "execution_count": 112,
     "metadata": {},
     "output_type": "execute_result"
    }
   ],
   "source": [
    "wcss"
   ]
  },
  {
   "cell_type": "code",
   "execution_count": 113,
   "id": "583872b1-d2d5-427b-b1f4-5929d93ba5d0",
   "metadata": {
    "scrolled": true
   },
   "outputs": [
    {
     "data": {
      "text/plain": [
       "[<matplotlib.lines.Line2D at 0x19206f66150>]"
      ]
     },
     "execution_count": 113,
     "metadata": {},
     "output_type": "execute_result"
    },
    {
     "data": {
      "image/png": "[encoded data removed]",
      "text/plain": [
       "<Figure size 640x480 with 1 Axes>"
      ]
     },
     "metadata": {},
     "output_type": "display_data"
    }
   ],
   "source": [
    "plt.plot(range(1, 11), wcss)"
   ]
  },
  {
   "cell_type": "code",
   "execution_count": 114,
   "id": "ec5d67a2-2b28-4672-90f8-1f93afb341f6",
   "metadata": {},
   "outputs": [],
   "source": [
    "k = 3"
   ]
  },
  {
   "cell_type": "code",
   "execution_count": 115,
   "id": "04a38372-a5cf-49bb-bf83-8552ffe20cd0",
   "metadata": {},
   "outputs": [],
   "source": [
    "model = KMeans(clusters=k)\n",
    "labels = model.fit(X1)"
   ]
  },
  {
   "cell_type": "code",
   "execution_count": 116,
   "id": "b47c5f92-7515-48d0-8795-7cb6853476dd",
   "metadata": {},
   "outputs": [
    {
     "data": {
      "text/plain": [
       "array([1, 1, 1, 1, 0, 1, 1, 0, 1, 2, 0, 0, 1, 0, 2, 2, 2, 1, 1, 1, 1, 1,\n",
       "       2, 1, 0, 1, 2, 1, 1, 0, 0, 2, 1, 1, 1, 1, 0, 2, 0, 0, 1, 1, 0, 2,\n",
       "       1, 0, 0, 1, 2, 0, 1, 1, 0, 0, 0, 1, 2, 1, 0, 1, 2, 1, 1, 2, 0, 1,\n",
       "       0, 0, 2, 1, 0, 1, 1, 1, 2, 1, 1, 2, 2, 1, 0, 0, 2, 1, 0, 1, 1, 0,\n",
       "       1, 1, 0, 1, 1, 0, 0, 1, 0, 1, 1, 0], dtype=int64)"
      ]
     },
     "execution_count": 116,
     "metadata": {},
     "output_type": "execute_result"
    }
   ],
   "source": [
    "labels"
   ]
  },
  {
   "cell_type": "code",
   "execution_count": null,
   "id": "ce67647a-2caf-4cb6-a1e7-8fd3b434ce2b",
   "metadata": {},
   "outputs": [],
   "source": []
  },
  {
   "cell_type": "code",
   "execution_count": null,
   "id": "abb80685-b510-41bb-a922-1f3cad92306e",
   "metadata": {},
   "outputs": [],
   "source": []
  }
 ],
 "metadata": {
  "kernelspec": {
   "display_name": "Python 3 (ipykernel)",
   "language": "python",
   "name": "python3"
  },
  "language_info": {
   "codemirror_mode": {
    "name": "ipython",
    "version": 3
   },
   "file_extension": ".py",
   "mimetype": "text/x-python",
   "name": "python",
   "nbconvert_exporter": "python",
   "pygments_lexer": "ipython3",
   "version": "3.11.4"
  }
 },
 "nbformat": 4,
 "nbformat_minor": 5
}
